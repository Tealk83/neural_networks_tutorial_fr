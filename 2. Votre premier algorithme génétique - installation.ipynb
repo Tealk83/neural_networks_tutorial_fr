{
 "cells": [
  {
   "cell_type": "markdown",
   "metadata": {},
   "source": [
    "# Votre premier algorithme génétique\n",
    "\n",
    "Maintenant que vous comprenez les briques fondamentales qui permettent de créer un réseau de neurones, nous allons pouvoir débuter la création d'un algorithme génétique.<br>\n",
    "Vous aurez d'abord besoin d'installer la librairie gym_snake de nicomon24.<br><br>\n",
    "\n",
    "<center><b><a href=\"https://github.com/nicomon24/Sneks\" target=\"_blank\">https://github.com/nicomon24/Sneks</a></b></center><br><br>\n",
    "Pour installer la librarie, il suffit de lancer les cellules suivantes (cela peut prendre plusieurs minutes.<br>\n",
    "L'installation requiert GIT. Je vous invite à l'installer préalablement sur votre machine si vous ne l'avez pas déjà fait (la commande \"git clone\" doit pouvoir fonctionner depuis l'invite de commande).<br>\n",
    "Si vous ne l'avez pas encore faire, vous pouvez suivre le processus d'installation décrit \n",
    "<a href=\"https://www.atlassian.com/git/tutorials/install-git\">ici</a>."
   ]
  },
  {
   "cell_type": "code",
   "execution_count": null,
   "metadata": {},
   "outputs": [],
   "source": [
    "!git clone https://github.com/nicomon24/Sneks\n",
    "!pip install -e ./Sneks"
   ]
  },
  {
   "cell_type": "markdown",
   "metadata": {},
   "source": [
    "Si vous êtes sur windows, executez la cellule suivante."
   ]
  },
  {
   "cell_type": "code",
   "execution_count": null,
   "metadata": {},
   "outputs": [],
   "source": [
    "!move ./Sneks/sneks ./snek\n",
    "!rd /s /q Sneks\n",
    "!move ./snek ./sneks"
   ]
  },
  {
   "cell_type": "markdown",
   "metadata": {},
   "source": [
    "Si vous êtes sur Linux, la suivante."
   ]
  },
  {
   "cell_type": "code",
   "execution_count": null,
   "metadata": {},
   "outputs": [],
   "source": [
    "!mv ./Sneks/sneks ./snek\n",
    "!rm -rf gym-snake\n",
    "!mv ./snek ./sneks"
   ]
  },
  {
   "cell_type": "code",
   "execution_count": null,
   "metadata": {},
   "outputs": [],
   "source": []
  }
 ],
 "metadata": {
  "kernelspec": {
   "display_name": "Python 3",
   "language": "python",
   "name": "python3"
  },
  "language_info": {
   "codemirror_mode": {
    "name": "ipython",
    "version": 3
   },
   "file_extension": ".py",
   "mimetype": "text/x-python",
   "name": "python",
   "nbconvert_exporter": "python",
   "pygments_lexer": "ipython3",
   "version": "3.6.8"
  }
 },
 "nbformat": 4,
 "nbformat_minor": 2
}
