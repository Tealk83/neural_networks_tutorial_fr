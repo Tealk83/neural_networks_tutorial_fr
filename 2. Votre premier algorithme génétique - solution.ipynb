{
 "cells": [
  {
   "cell_type": "markdown",
   "metadata": {},
   "source": [
    "# Votre premier algorithme génétique\n",
    "\n",
    "Maintenant que vous comprenez les briques fondamentales qui permettent de créer un réseau de neurones, nous allons pouvoir débuter la création d'un algorithme génétique.<br>\n",
    "Vous aurez d'abord besoin d'installer la librairie gym_snake de nicomon24.<br><br>\n",
    "\n",
    "<center><b><a href=\"https://github.com/nicomon24/Sneks\" target=\"_blank\">https://github.com/nicomon24/Sneks</a></b></center><br><br>\n",
    "Pour installer la librarie, il suffit de lancer les cellules suivantes (cela peut prendre plusieurs minutes.<br>\n",
    "L'installation requiert GIT. Je vous invite à l'installer préalablement sur votre machine si vous ne l'avez pas déjà fait (la commande \"git clone\" doit pouvoir fonctionner depuis l'invite de commande).<br>\n",
    "Si vous ne l'avez pas encore faire, vous pouvez suivre le processus d'installation décrit \n",
    "<a href=\"https://www.atlassian.com/git/tutorials/install-git\">ici</a>."
   ]
  },
  {
   "cell_type": "code",
   "execution_count": 1,
   "metadata": {
    "scrolled": true
   },
   "outputs": [
    {
     "name": "stderr",
     "output_type": "stream",
     "text": [
      "Cloning into 'Sneks'...\n"
     ]
    },
    {
     "name": "stdout",
     "output_type": "stream",
     "text": [
      "Obtaining file:///C:/git_dir/neural_networks_tutorial_fr/Sneks\n",
      "Requirement already satisfied: gym in c:\\users\\leximus\\appdata\\local\\programs\\python\\python36\\lib\\site-packages (from sneks==0.0.1) (0.12.1)\n",
      "Requirement already satisfied: numpy in c:\\users\\leximus\\appdata\\local\\programs\\python\\python36\\lib\\site-packages (from sneks==0.0.1) (1.16.3)\n",
      "Collecting opencv-python (from sneks==0.0.1)\n",
      "  Downloading https://files.pythonhosted.org/packages/dc/54/a6b7727c67d4e14194549a9e1a1acd7902ebae2f4a688d84b658ae40b5fb/opencv_python-4.1.0.25-cp36-cp36m-win_amd64.whl (37.3MB)\n",
      "Requirement already satisfied: scipy in c:\\users\\leximus\\appdata\\local\\programs\\python\\python36\\lib\\site-packages (from gym->sneks==0.0.1) (1.2.1)\n",
      "Requirement already satisfied: requests>=2.0 in c:\\users\\leximus\\appdata\\local\\programs\\python\\python36\\lib\\site-packages (from gym->sneks==0.0.1) (2.21.0)\n",
      "Requirement already satisfied: six in c:\\users\\leximus\\appdata\\local\\programs\\python\\python36\\lib\\site-packages (from gym->sneks==0.0.1) (1.12.0)\n",
      "Requirement already satisfied: pyglet>=1.2.0 in c:\\users\\leximus\\appdata\\local\\programs\\python\\python36\\lib\\site-packages (from gym->sneks==0.0.1) (1.3.2)\n",
      "Requirement already satisfied: urllib3<1.25,>=1.21.1 in c:\\users\\leximus\\appdata\\local\\programs\\python\\python36\\lib\\site-packages (from requests>=2.0->gym->sneks==0.0.1) (1.24.2)\n",
      "Requirement already satisfied: chardet<3.1.0,>=3.0.2 in c:\\users\\leximus\\appdata\\local\\programs\\python\\python36\\lib\\site-packages (from requests>=2.0->gym->sneks==0.0.1) (3.0.4)\n",
      "Requirement already satisfied: certifi>=2017.4.17 in c:\\users\\leximus\\appdata\\local\\programs\\python\\python36\\lib\\site-packages (from requests>=2.0->gym->sneks==0.0.1) (2019.3.9)\n",
      "Requirement already satisfied: idna<2.9,>=2.5 in c:\\users\\leximus\\appdata\\local\\programs\\python\\python36\\lib\\site-packages (from requests>=2.0->gym->sneks==0.0.1) (2.8)\n",
      "Requirement already satisfied: future in c:\\users\\leximus\\appdata\\local\\programs\\python\\python36\\lib\\site-packages (from pyglet>=1.2.0->gym->sneks==0.0.1) (0.17.1)\n",
      "Installing collected packages: opencv-python, sneks\n",
      "  Running setup.py develop for sneks\n",
      "Successfully installed opencv-python-4.1.0.25 sneks\n"
     ]
    },
    {
     "name": "stderr",
     "output_type": "stream",
     "text": [
      "You are using pip version 18.1, however version 19.1 is available.\n",
      "You should consider upgrading via the 'python -m pip install --upgrade pip' command.\n"
     ]
    }
   ],
   "source": [
    "!git clone https://github.com/nicomon24/Sneks\n",
    "!pip install -e ./Sneks"
   ]
  },
  {
   "cell_type": "markdown",
   "metadata": {},
   "source": [
    "Si vous êtes sur windows, executez la cellule suivante."
   ]
  },
  {
   "cell_type": "code",
   "execution_count": 2,
   "metadata": {},
   "outputs": [
    {
     "name": "stdout",
     "output_type": "stream",
     "text": [
      "        1 r‚pertoires d‚plac‚s.\n",
      "        1 r‚pertoires d‚plac‚s.\n"
     ]
    }
   ],
   "source": [
    "!move ./Sneks/sneks ./snek\n",
    "!rd /s /q Sneks\n",
    "!move ./snek ./sneks"
   ]
  },
  {
   "cell_type": "markdown",
   "metadata": {},
   "source": [
    "Si vous êtes sur Linux, la suivante."
   ]
  },
  {
   "cell_type": "code",
   "execution_count": null,
   "metadata": {},
   "outputs": [],
   "source": [
    "!mv ./Sneks/sneks ./snek\n",
    "!rm -rf gym-snake\n",
    "!mv ./snek ./sneks"
   ]
  },
  {
   "cell_type": "markdown",
   "metadata": {},
   "source": [
    "# Les bases de \"gym\"\n",
    "\n",
    "Maintenant que notre environement est prêt à l'usage, nous allons détailler son fonctionnement.<br>\n",
    "Commençons par l'importation."
   ]
  },
  {
   "cell_type": "code",
   "execution_count": 3,
   "metadata": {},
   "outputs": [],
   "source": [
    "import gym #Importe la librairie gym d'OpenAI\n",
    "import sneks\n",
    "\n",
    "env = gym.make('babysnek-raw-16-v1') #Crée"
   ]
  },
  {
   "cell_type": "markdown",
   "metadata": {},
   "source": [
    "Si vous rencontrez des difficultés lors de l'exécution de la cellule ci-avant, vérifiez que vous avez correctement installé le dossier sneks (il doit être dans le même dossier que le notebook... et sans majuscule!)\n",
    "\n",
    "<center><img src=\"ipynb_images/install_snake.jpg\"></img></center><br>"
   ]
  },
  {
   "cell_type": "markdown",
   "metadata": {},
   "source": [
    "A présent, nous allons comprendre comment lancer l'environnement."
   ]
  },
  {
   "cell_type": "code",
   "execution_count": 4,
   "metadata": {},
   "outputs": [],
   "source": [
    "env.reset(); #Cette fonction doit être appelée avant chaque \"partie\" ne soit lancée.\n",
    "#Elle a pour but de réinitialiser le jeu et vous retourne une matrice d'observation (state).\n",
    "#Nous reviendrons là-dessus plus tard."
   ]
  },
  {
   "cell_type": "code",
   "execution_count": 5,
   "metadata": {},
   "outputs": [],
   "source": [
    "env.render(); #Cette fonction vous permet de créer une représentation visuelle du jeu.\n",
    "#Vous devriez voir une interface s'ouvrir. Si elle freeze, pas de panique, c'est normal."
   ]
  },
  {
   "cell_type": "markdown",
   "metadata": {},
   "source": [
    "En règle générale, la fonction <i>env.render()</i> est appelée quand vous voulez voir comment votre IA résout le problème.<br>\n",
    "Toutefois, vous verrez que nous n'utiliserons pas cette fonction la plupart du temps.<br>\n",
    "Au lieu de cela, nous voulons entraîner un agent, et le faire rapidement. Le rendement visuel de .render() restitue l'état du jeu à mesure qu'il est joué, ce qui réduit grandement nos performances en terme de temps.<br><br><br>\n",
    "A présent que nous avons démarré l'environnement, nous allons jouer des actions aléatoires afin de voir comment fonctionne ces actions.<br>\n",
    "Que ces sont actions ? Si vous jouyiez à Mario, il s'agirait de \"sauter, bouger à droite, à gauche...)<br>\n",
    "Dans l'environement snake, cela correspond à \"aller en haut\", \"aller en bas\", \"aller à gauche\", \"aller à droite\"... Voyons comment cela marche."
   ]
  },
  {
   "cell_type": "code",
   "execution_count": 6,
   "metadata": {},
   "outputs": [
    {
     "data": {
      "text/plain": [
       "Discrete(4)"
      ]
     },
     "execution_count": 6,
     "metadata": {},
     "output_type": "execute_result"
    }
   ],
   "source": [
    "env.action_space #action_space décrit l'ensemble des actions de l'environnement.\n",
    "#Nous allons voir comment les choses fonctionnent."
   ]
  },
  {
   "cell_type": "markdown",
   "metadata": {},
   "source": [
    "la variable action_space dérive de l'objet env. Il nous apprend que nous ne pouvons réaliser que 4 actions différentes : 0, 1, 2 ou 3.<br><br>\n",
    "L'environment est dit <b><u>discrete (discret)</u></b>, ce qui signifie que seul des nombres entiers seront acceptés.<br>\n",
    "Discrete est à opposé à <b><u>continuous</u></b>, qui représente une variable continue.<br><br>\n",
    "Une variable discrète pourrait correspondre aux face d'un dé que l'on jette. Vous n'aurez que des résultats entiers : 1, 2, 3, 4, 5 or 6.<br> Si vous pensez néanmoins au poids d'un animal, vous obtiendrez une variable continue, quelque chose comme 17,841Kg.<br>\n",
    "    Votre chien ne passera pas directement de 17Kg à 18Kg, comme si il y avait un saut entre les deux. Son poids monte en <u>continu</u> de 17 à 18... d'où le nom de variable continue. "
   ]
  },
  {
   "cell_type": "code",
   "execution_count": 7,
   "metadata": {},
   "outputs": [
    {
     "data": {
      "text/plain": [
       "3"
      ]
     },
     "execution_count": 7,
     "metadata": {},
     "output_type": "execute_result"
    }
   ],
   "source": [
    "env.action_space.sample() #Retourne un exemple aléatoire de ce\n",
    "#qui peut être envoyé comme action."
   ]
  },
  {
   "cell_type": "markdown",
   "metadata": {},
   "source": [
    "Maintenant que nous savons quoi envoyer pour signifier une action, nous voulons que ce choix d'action soit pris en considération. Pour cela, nous allons appeler la fonction **env.step()**.<br>\n",
    "Cela nous retournera les informations suivantes:<br>\n",
    "- <u>Observation:</u> Ce à quoi le plateau de jeu ressemble, une fois votre action prise en compte. Il est ainsi possible de suivre l'évolution de la partie qui se joue. L'observation est donnée lorsque vous exécutez une étape (*env.step()*) ou quand vous réinitialisez une partie (*env.reset()*)\n",
    "- <u>reward:</u> La reward est la récompense. Elle qualifie si votre agent accumule des points. Dans le cas de l'environnement que nous utilisons, cela vous informe si votre agent a attrapé le fruit... ou bien s'est suicidé en se mordant la queue/sautant de la falaise.\n",
    "- <u>done:</u> Le jeu continue-t-il encore ? Si votre serpent saute de la falaise ou se mord la queue, cette variable passera à True\n",
    "- <u>info:</u> Des informations complémentaires au sujet de l'environnement."
   ]
  },
  {
   "cell_type": "code",
   "execution_count": 8,
   "metadata": {},
   "outputs": [
    {
     "data": {
      "text/plain": [
       "(array([[  0.,   0.,   0.,   0.,   0.,   0.,   0.,   0.,   0.,   0.,   0.,\n",
       "           0.,   0.,   0.,   0.,   0.],\n",
       "        [  0.,   0.,   0.,   0.,   0.,   0.,   0.,   0.,   0.,   0.,   0.,\n",
       "           0.,   0.,   0.,   0.,   0.],\n",
       "        [  0.,   0.,   0.,   0.,   0.,   0.,   0.,   0.,   0.,   0.,   0.,\n",
       "           0.,   0.,   0.,   0.,   0.],\n",
       "        [  0.,   0.,   0.,   0.,   0.,   0.,   0.,   0.,   0.,   0.,   0.,\n",
       "           0.,   0.,   0.,   0.,   0.],\n",
       "        [  0.,   0.,   0.,   0.,   0.,   0.,   0.,   0.,   0.,   0.,   0.,\n",
       "           0.,   0.,   0.,   0.,   0.],\n",
       "        [  0.,   0.,   0.,   0.,   0.,   0.,   0.,   0.,   0.,   0.,   0.,\n",
       "           0.,   0.,   0.,   0.,   0.],\n",
       "        [  0.,   0.,   0.,   0.,   0.,   0.,   0.,   0.,   0., 101., 100.,\n",
       "           0.,   0.,   0.,   0.,   0.],\n",
       "        [  0.,   0.,   0.,   0.,   0.,   0.,   0.,   0.,   0.,   0., 100.,\n",
       "           0.,   0.,   0.,   0.,   0.],\n",
       "        [  0.,   0.,   0.,   0.,   0.,   0.,   0.,   0.,   0.,   0., 100.,\n",
       "           0.,   0.,   0.,   0.,   0.],\n",
       "        [  0.,   0.,   0.,   0.,   0.,   0.,   0.,   0.,   0.,   0.,   0.,\n",
       "           0.,   0.,   0.,   0.,   0.],\n",
       "        [  0.,   0.,   0.,   0.,   0.,   0.,   0.,   0.,   0.,   0.,   0.,\n",
       "           0.,   0.,   0.,   0.,   0.],\n",
       "        [  0.,   0.,   0.,   0.,   0.,   0.,   0.,   0.,   0.,   0.,   0.,\n",
       "           0.,   0.,   0.,   0.,   0.],\n",
       "        [  0.,   0.,   0.,   0.,   0.,   0.,   0.,   0.,   0.,   0.,   0.,\n",
       "           0.,   0.,   0.,   0.,   0.],\n",
       "        [  0.,   0.,   0.,   0.,   0.,   0.,   0.,   0.,   0.,   0.,   0.,\n",
       "           0.,   0.,   0.,   0.,   0.],\n",
       "        [  0.,   0.,   0.,   0.,   0.,   0., 255.,   0.,   0.,   0.,   0.,\n",
       "           0.,   0.,   0.,   0.,   0.],\n",
       "        [  0.,   0.,   0.,   0.,   0.,   0.,   0.,   0.,   0.,   0.,   0.,\n",
       "           0.,   0.,   0.,   0.,   0.]]), 0, False, {})"
      ]
     },
     "execution_count": 8,
     "metadata": {},
     "output_type": "execute_result"
    }
   ],
   "source": [
    "env.step(env.action_space.sample())"
   ]
  },
  {
   "cell_type": "markdown",
   "metadata": {},
   "source": [
    "Si vous regardez sur l'image rendue, vous verrez qu'aucun des serpents n'a bougé. C'est parce que env.render() n'a pas encore été appelé pour mettre à jour l'affichage."
   ]
  },
  {
   "cell_type": "code",
   "execution_count": 9,
   "metadata": {},
   "outputs": [
    {
     "name": "stdout",
     "output_type": "stream",
     "text": [
      "(array([[  0.,   0.,   0.,   0.,   0.,   0.,   0.,   0.,   0.,   0.,   0.,\n",
      "          0.,   0.,   0.,   0.,   0.],\n",
      "       [  0.,   0.,   0.,   0.,   0.,   0.,   0.,   0.,   0.,   0.,   0.,\n",
      "          0.,   0.,   0.,   0.,   0.],\n",
      "       [  0.,   0., 255.,   0.,   0.,   0.,   0.,   0.,   0.,   0.,   0.,\n",
      "          0.,   0.,   0.,   0.,   0.],\n",
      "       [  0.,   0.,   0.,   0.,   0.,   0.,   0.,   0.,   0.,   0.,   0.,\n",
      "          0.,   0.,   0.,   0.,   0.],\n",
      "       [  0.,   0.,   0.,   0.,   0.,   0.,   0.,   0.,   0.,   0.,   0.,\n",
      "          0.,   0.,   0.,   0.,   0.],\n",
      "       [  0.,   0.,   0.,   0.,   0.,   0.,   0.,   0.,   0.,   0.,   0.,\n",
      "          0.,   0.,   0.,   0.,   0.],\n",
      "       [  0.,   0.,   0.,   0.,   0.,   0.,   0.,   0.,   0.,   0.,   0.,\n",
      "          0.,   0.,   0.,   0.,   0.],\n",
      "       [  0.,   0.,   0.,   0.,   0.,   0.,   0.,   0.,   0.,   0.,   0.,\n",
      "          0.,   0.,   0.,   0.,   0.],\n",
      "       [  0.,   0.,   0.,   0.,   0.,   0.,   0.,   0.,   0.,   0.,   0.,\n",
      "          0.,   0.,   0.,   0.,   0.],\n",
      "       [  0.,   0.,   0.,   0.,   0.,   0.,   0.,   0.,   0.,   0.,   0.,\n",
      "          0.,   0.,   0.,   0.,   0.],\n",
      "       [  0.,   0.,   0.,   0.,   0.,   0.,   0.,   0.,   0.,   0.,   0.,\n",
      "          0.,   0.,   0.,   0.,   0.],\n",
      "       [  0.,   0.,   0.,   0.,   0.,   0.,   0., 100., 101.,   0.,   0.,\n",
      "          0.,   0.,   0.,   0.,   0.],\n",
      "       [  0.,   0.,   0.,   0.,   0.,   0.,   0., 100.,   0.,   0.,   0.,\n",
      "          0.,   0.,   0.,   0.,   0.],\n",
      "       [  0.,   0.,   0.,   0.,   0.,   0.,   0., 100.,   0.,   0.,   0.,\n",
      "          0.,   0.,   0.,   0.,   0.],\n",
      "       [  0.,   0.,   0.,   0.,   0.,   0.,   0.,   0.,   0.,   0.,   0.,\n",
      "          0.,   0.,   0.,   0.,   0.],\n",
      "       [  0.,   0.,   0.,   0.,   0.,   0.,   0.,   0.,   0.,   0.,   0.,\n",
      "          0.,   0.,   0.,   0.,   0.]]), 0, False, {})\n"
     ]
    }
   ],
   "source": [
    "env.reset();\n",
    "print(env.step(env.action_space.sample()))\n",
    "env.render();"
   ]
  },
  {
   "cell_type": "markdown",
   "metadata": {},
   "source": [
    "Comme vous pouvez le voir, env.step() retourne une matrice contenant toutes les observations.<br>\n",
    "- 0 signifie que la cellule est vide.\n",
    "- 255 est l'objectif, la nourriture à attraper.\n",
    "- 101 est la tête du serpent.\n",
    "- 100 est la queue du serpent.<br><br>"
   ]
  },
  {
   "cell_type": "code",
   "execution_count": 10,
   "metadata": {},
   "outputs": [],
   "source": [
    "#Généralement, les 4 variables sont extraites de la sorte:\n",
    "observation, reward, done, info = env.step(env.action_space.sample())"
   ]
  },
  {
   "cell_type": "markdown",
   "metadata": {},
   "source": [
    "Exercice : En utilisant l'environment, créez  un code qui parvient à atteindre la pomme.\n",
    "\n",
    "Vous pouvez utilisez les portes logiques précédement introduites."
   ]
  },
  {
   "cell_type": "code",
   "execution_count": 11,
   "metadata": {},
   "outputs": [],
   "source": [
    "from lexml.lexmlcourses import test_direction_with_gym_snek\n",
    "\n",
    "\n",
    "def my_snake_movement(observations):\n",
    "    #Entrée : les observations de l'état du jeu\n",
    "    \n",
    "    #Sortie : l'action sélectionnée (0, 1, 2 ou 3)\n",
    "    return None\n",
    "test_direction_with_gym_snek(my_snake_movement)"
   ]
  },
  {
   "cell_type": "markdown",
   "metadata": {},
   "source": [
    "Maintenant que nous avons couvert gym, nous allons pouvoir nous intéresser à la structure du réseau."
   ]
  }
 ],
 "metadata": {
  "kernelspec": {
   "display_name": "Python 3",
   "language": "python",
   "name": "python3"
  },
  "language_info": {
   "codemirror_mode": {
    "name": "ipython",
    "version": 3
   },
   "file_extension": ".py",
   "mimetype": "text/x-python",
   "name": "python",
   "nbconvert_exporter": "python",
   "pygments_lexer": "ipython3",
   "version": "3.6.8"
  }
 },
 "nbformat": 4,
 "nbformat_minor": 2
}
